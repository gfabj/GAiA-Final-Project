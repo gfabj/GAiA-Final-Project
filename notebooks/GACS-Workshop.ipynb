{
 "cells": [
  {
   "cell_type": "markdown",
   "metadata": {},
   "source": [
    "# Accessing GACS with Python \n",
    "\n",
    "- Simple python scripts showing how to access.\n",
    "- Download this notebook ftp://ftp.sciops.esa.int/pub/epozo/GACS-Python/GACS-Workshop.pynb\n"
   ]
  },
  {
   "cell_type": "markdown",
   "metadata": {},
   "source": [
    "## Imports and Global variables"
   ]
  },
  {
   "cell_type": "code",
   "execution_count": 1,
   "metadata": {
    "collapsed": true
   },
   "outputs": [],
   "source": [
    "import requests\n",
    "import numpy as np\n",
    "import matplotlib.pyplot as plt\n",
    "import matplotlib.cm as cm\n",
    "import time\n",
    "import os\n",
    "import getpass\n",
    "# Directive to matblotlib for creating interactive graphs\n",
    "# Use %matplotlib inline for just creating the plots\n",
    "%matplotlib notebook\n",
    "\n",
    "# Gaia Archive REST URL\n",
    "gacs_url = 'https://gea.esac.esa.int/tap-server/'\n",
    "# URL For synchronous queries\n",
    "gacs_sync_url  = gacs_url + 'tap/sync'\n",
    "# URL For asynchronous queries\n",
    "gacs_async_url = gacs_url + 'tap/async' \n",
    "# Login URL\n",
    "gacs_login_url = gacs_url + 'login'\n",
    "# Delete JOBS URL\n",
    "gacs_delete_url = gacs_url + 'tap/deletejobs'\n",
    "# HTTP Session object\n",
    "session = requests.Session()"
   ]
  },
  {
   "cell_type": "markdown",
   "metadata": {
    "nbpresent": {
     "id": "e63ced31-9d2d-4f7c-a625-2cfcab03f572"
    },
    "slideshow": {
     "slide_type": "-"
    }
   },
   "source": [
    "## Log in to GACS \n",
    "\n",
    "- Remember to update your username ! \n",
    "- Copy this function ! .... it makes for you the login to the Gaia Archive"
   ]
  },
  {
   "cell_type": "code",
   "execution_count": 3,
   "metadata": {
    "collapsed": false,
    "nbpresent": {
     "id": "869626d3-f1c7-46fa-ab6b-02837a463713"
    },
    "slideshow": {
     "slide_type": "-"
    }
   },
   "outputs": [
    {
     "name": "stdout",
     "output_type": "stream",
     "text": [
      "Enter cosmos password:········\n"
     ]
    }
   ],
   "source": [
    "# Ask for the password (COSMOS)\n",
    "password = getpass.getpass('Enter cosmos password:')\n",
    "\n",
    "# POST the authentication\n",
    "resp = session.post(gacs_login_url,data = {'username':'edelpozo','password':password})"
   ]
  },
  {
   "cell_type": "markdown",
   "metadata": {
    "nbpresent": {
     "id": "4a0c76bf-1e9b-47b3-8e1b-18cc5499999a"
    }
   },
   "source": [
    "## Create a function for executing asynchronous queries\n",
    "\n",
    "- Copy this function ! .... it makes for you the queries to the Gaia Archive"
   ]
  },
  {
   "cell_type": "code",
   "execution_count": 5,
   "metadata": {
    "collapsed": false,
    "nbpresent": {
     "id": "283346d8-5863-44f5-ac21-d287f1b8d312"
    }
   },
   "outputs": [
    {
     "name": "stdout",
     "output_type": "stream",
     "text": [
      "Submitted job to GACS: Job URL=https://gea.esac.esa.int/tap-server/tap/async/1524670501069O\n",
      "Query time: 3.89532780647 seconds\n"
     ]
    }
   ],
   "source": [
    "def execute_query(query,results_format='csv',delete_job=True):\n",
    "    \n",
    "    global gacs_async_url\n",
    "    global gacs_delete_url\n",
    "    global session  \n",
    "\n",
    "    # Submit the Job to Gacs user space\n",
    "    gacs_query = {'PHASE':'RUN','REQUEST':'doQuery','LANG':'ADQL','FORMAT':results_format,'QUERY':query}\n",
    "    start = time.time()\n",
    "    resp = session.post(gacs_async_url,params=gacs_query)   \n",
    "    if resp.status_code != 200:\n",
    "        raise Exception('Error launching the job ... ', query , resp.text)       \n",
    "    url_job = resp.url    \n",
    "    print('Submitted job to GACS: Job URL=' + url_job)\n",
    "        \n",
    "    # Poll the server till the Query is finished\n",
    "    while True:       \n",
    "        resp = session.get(url_job)       \n",
    "        if resp.status_code != 200:\n",
    "            raise Exception('Error checking job status ... ', url_job , resp.text)         \n",
    "        if resp.text.find('COMPLETED') >= 0:\n",
    "            break;\n",
    "        if resp.text.find('ERROR') >= 0:\n",
    "            raise Exception('Error in the query exitting ... ', url_job , resp.text)   \n",
    "        time.sleep(0.2)   \n",
    "    \n",
    "    # Get results\n",
    "    results = session.get(url_job + '/results/result')\n",
    "    if results.status_code != 200:\n",
    "        raise Exception('Error launching the job ... ', query , results.text) \n",
    "        \n",
    "    stop = time.time()\n",
    "    print('Query time: ' + str(stop-start) + ' seconds')\n",
    "    \n",
    "    # Delete the Job from the Gaia Archive\n",
    "    if delete_job:\n",
    "        job_id = url_job.split('/')[-1]\n",
    "        session.post(gacs_delete_url,data ={'JOB_IDS':job_id})\n",
    "        if resp.status_code != 200:\n",
    "            raise Exception('Error deleting the job ... ', job_id , resp.text) \n",
    "    \n",
    "    return results\n",
    "\n",
    "# TEST the function\n",
    "resp = execute_query('SELECT TOP 5 source_id,ra,dec FROM gaiadr1.gaia_source')"
   ]
  },
  {
   "cell_type": "markdown",
   "metadata": {
    "nbpresent": {
     "id": "20bc5b0f-879a-407b-8ce9-d5ceb9571015"
    }
   },
   "source": [
    "## Python: Exercise 1 \n",
    "\n",
    "### Create Hipparcos and Gaia DR1 B-V HR diagrams for well-behaved Hipparcos stars"
   ]
  },
  {
   "cell_type": "markdown",
   "metadata": {},
   "source": [
    "1. Get the data from the archive"
   ]
  },
  {
   "cell_type": "code",
   "execution_count": 6,
   "metadata": {
    "collapsed": false
   },
   "outputs": [
    {
     "name": "stdout",
     "output_type": "stream",
     "text": [
      "Submitted job to GACS: Job URL=https://gea.esac.esa.int/tap-server/tap/async/1524670510127O\n",
      "Query time: 7.87393903732 seconds\n"
     ]
    }
   ],
   "source": [
    "# Define the query .... getting the parallax from tgas and hipparcos catalogue, apparent magnitude \n",
    "# and hipparcos b_v parameter.\n",
    "select = 'SELECT gaia.parallax,hip.plx,gaia.phot_g_mean_mag,hip.b_v '\n",
    "tables = ' FROM gaiadr1.tgas_source as gaia INNER JOIN public.hipparcos_newreduction as hip on gaia.hip = hip.hip'\n",
    "where = (' where gaia.parallax/gaia.parallax_error >= 5 and '\n",
    "         'hip.plx/hip.e_plx >= 5 and '\n",
    "         'hip.e_b_v > 0.0 and hip.e_b_v <= 0.05 and '\n",
    "         '2.5/log(10)*gaia.phot_g_mean_flux_error/gaia.phot_g_mean_flux <= 0.05')\n",
    "gacs_query = select + tables + where\n",
    "\n",
    "# Run the query\n",
    "resp = execute_query(gacs_query)\n",
    "\n",
    "# Load the information from the request results in CSV\n",
    "gaiaplx, hipplx, ap_gmag, hip_bv = np.loadtxt(resp.text.split('\\n'),skiprows=1,delimiter=',',unpack=True)"
   ]
  },
  {
   "cell_type": "markdown",
   "metadata": {},
   "source": [
    "2. Define a function for computing the absolute magnitude"
   ]
  },
  {
   "cell_type": "code",
   "execution_count": 7,
   "metadata": {
    "collapsed": true
   },
   "outputs": [],
   "source": [
    "# Function for computing the absolute magnitude\n",
    "def abs_mag(parallax,apparent_mag):\n",
    "    return apparent_mag+5*np.log10(np.abs(parallax))-10"
   ]
  },
  {
   "cell_type": "markdown",
   "metadata": {},
   "source": [
    "3. Plot the scatter plot for Gaia Abs Mag vs B_V"
   ]
  },
  {
   "cell_type": "code",
   "execution_count": 16,
   "metadata": {
    "collapsed": false,
    "nbpresent": {
     "id": "8ce4d072-9fed-4ebb-a877-ae93ad30e7c9"
    },
    "slideshow": {
     "slide_type": "slide"
    }
   },
   "outputs": [
    {
     "ename": "NameError",
     "evalue": "name 'pts' is not defined",
     "output_type": "error",
     "traceback": [
      "\u001b[0;31m---------------------------------------------------------------------------\u001b[0m",
      "\u001b[0;31mNameError\u001b[0m                                 Traceback (most recent call last)",
      "\u001b[0;32m<ipython-input-16-b14b0f9b28e2>\u001b[0m in \u001b[0;36m<module>\u001b[0;34m()\u001b[0m\n\u001b[1;32m      6\u001b[0m \u001b[0;31m#plt.scatter(hip_bv,abs_mag_gaia, c=heatmap , s=10, cmap=cm.hot , lw=0)\u001b[0m\u001b[0;34m\u001b[0m\u001b[0;34m\u001b[0m\u001b[0m\n\u001b[1;32m      7\u001b[0m \u001b[0mplt\u001b[0m\u001b[0;34m.\u001b[0m\u001b[0mgca\u001b[0m\u001b[0;34m(\u001b[0m\u001b[0;34m)\u001b[0m\u001b[0;34m.\u001b[0m\u001b[0minvert_yaxis\u001b[0m\u001b[0;34m(\u001b[0m\u001b[0;34m)\u001b[0m\u001b[0;34m\u001b[0m\u001b[0m\n\u001b[0;32m----> 8\u001b[0;31m \u001b[0mplt\u001b[0m\u001b[0;34m.\u001b[0m\u001b[0mcolorbar\u001b[0m\u001b[0;34m(\u001b[0m\u001b[0mpts\u001b[0m\u001b[0;34m)\u001b[0m\u001b[0;34m\u001b[0m\u001b[0m\n\u001b[0m\u001b[1;32m      9\u001b[0m \u001b[0mplt\u001b[0m\u001b[0;34m.\u001b[0m\u001b[0mshow\u001b[0m\u001b[0;34m(\u001b[0m\u001b[0;34m)\u001b[0m\u001b[0;34m\u001b[0m\u001b[0m\n",
      "\u001b[0;31mNameError\u001b[0m: name 'pts' is not defined"
     ]
    }
   ],
   "source": [
    "# Compute the absolute magnitude for Gaia\n",
    "abs_mag_gaia = abs_mag(gaiaplx,ap_gmag)\n",
    "\n",
    "# Plot the \n",
    "plt.hexbin(hip_bv, abs_mag_gaia, gridsize = 300,cmap=cm.jet, bins='log')\n",
    "#plt.scatter(hip_bv,abs_mag_gaia, c=heatmap , s=10, cmap=cm.hot , lw=0)\n",
    "plt.gca().invert_yaxis()\n",
    "plt.colorbar()\n",
    "plt.show()"
   ]
  },
  {
   "cell_type": "markdown",
   "metadata": {},
   "source": [
    "4. Plot the scatter plot for Hipparcos Abs Mag vs B_V"
   ]
  },
  {
   "cell_type": "code",
   "execution_count": 10,
   "metadata": {
    "collapsed": false,
    "nbpresent": {
     "id": "6376122b-df3d-4898-a5d9-8a8417ad809d"
    }
   },
   "outputs": [],
   "source": [
    "# Compute the absolute magnitude for Hipparcos\n",
    "abs_mag_hip = abs_mag(hipplx,ap_gmag)\n",
    "\n",
    "# Plot the \n",
    "plt.hexbin(hip_bv, abs_mag_hip, gridsize = 300,cmap=cm.jet, bins='log')\n",
    "#plt.scatter(hip_bv,abs_mag_gaia, c=heatmap , s=10, cmap=cm.hot , lw=0)\n",
    "plt.gca().invert_yaxis()\n",
    "plt.colorbar()\n",
    "plt.show()"
   ]
  },
  {
   "cell_type": "code",
   "execution_count": 11,
   "metadata": {
    "collapsed": false,
    "nbpresent": {
     "id": "a3be766f-1132-4244-89d3-2cdadc0d3c98"
    }
   },
   "outputs": [
    {
     "name": "stderr",
     "output_type": "stream",
     "text": [
      "/Users/gaiafabj/anaconda/lib/python2.7/site-packages/ipykernel/__main__.py:8: RuntimeWarning: divide by zero encountered in log\n"
     ]
    }
   ],
   "source": [
    "hist, xedges, yedges = np.histogram2d(hip_bv,abs_mag_gaia, bins=300)\n",
    "\n",
    "xidx = np.clip(np.digitize(hip_bv, xedges), 0, hist.shape[0]-1)\n",
    "yidx = np.clip(np.digitize(abs_mag_gaia, yedges), 0, hist.shape[1]-1)\n",
    "c = hist[xidx, yidx]\n",
    "\n",
    "plt.gca().invert_yaxis()\n",
    "plt.scatter(hip_bv,abs_mag_gaia, c=np.log(c), s=2,cmap=cm.jet, lw=0)\n",
    "plt.colorbar()\n",
    "plt.show()"
   ]
  },
  {
   "cell_type": "markdown",
   "metadata": {
    "nbpresent": {
     "id": "2ae3bfd3-f03c-4c22-aff9-e007ee9a54bc"
    }
   },
   "source": [
    "## Python: Exercise 2\n",
    "\n",
    "### Create Proper Motion diagram around the LMC - With TGAS + Hipparcos"
   ]
  },
  {
   "cell_type": "markdown",
   "metadata": {},
   "source": [
    "1. Get the data corresponding to the LMC (See https://arxiv.org/pdf/1609.04395.pdf)"
   ]
  },
  {
   "cell_type": "code",
   "execution_count": 1,
   "metadata": {
    "collapsed": false,
    "nbpresent": {
     "id": "7243a8d7-5cf3-441e-82f4-6c1bd22017ef"
    }
   },
   "outputs": [
    {
     "ename": "NameError",
     "evalue": "name 'execute_query' is not defined",
     "output_type": "error",
     "traceback": [
      "\u001b[0;31m---------------------------------------------------------------------------\u001b[0m",
      "\u001b[0;31mNameError\u001b[0m                                 Traceback (most recent call last)",
      "\u001b[0;32m<ipython-input-1-0aaa2c0429d5>\u001b[0m in \u001b[0;36m<module>\u001b[0;34m()\u001b[0m\n\u001b[1;32m     14\u001b[0m \u001b[0;34m\u001b[0m\u001b[0m\n\u001b[1;32m     15\u001b[0m \u001b[0mgacs_query\u001b[0m \u001b[0;34m=\u001b[0m \u001b[0mselect\u001b[0m \u001b[0;34m+\u001b[0m \u001b[0mtables\u001b[0m \u001b[0;34m+\u001b[0m \u001b[0mwhere\u001b[0m\u001b[0;34m\u001b[0m\u001b[0m\n\u001b[0;32m---> 16\u001b[0;31m \u001b[0mresp\u001b[0m \u001b[0;34m=\u001b[0m \u001b[0mexecute_query\u001b[0m\u001b[0;34m(\u001b[0m\u001b[0mgacs_query\u001b[0m\u001b[0;34m)\u001b[0m\u001b[0;34m\u001b[0m\u001b[0m\n\u001b[0m\u001b[1;32m     17\u001b[0m \u001b[0;34m\u001b[0m\u001b[0m\n\u001b[1;32m     18\u001b[0m \u001b[0;31m# Load the information from the request results\u001b[0m\u001b[0;34m\u001b[0m\u001b[0;34m\u001b[0m\u001b[0m\n",
      "\u001b[0;31mNameError\u001b[0m: name 'execute_query' is not defined"
     ]
    }
   ],
   "source": [
    "select = \"SELECT gaia.pmra,gaia.pmdec,gaia.phot_g_mean_mag,gaia.ra,gaia.dec\"\n",
    "tables = \" FROM gaiadr1.tgas_source as gaia INNER JOIN public.hipparcos_newreduction as hip on gaia.hip = hip.hip\"\n",
    "where  = (\" WHERE 1=CONTAINS(POINT('ICRS',gaia.l,gaia.b), \"\n",
    "          \"CIRCLE('ICRS',-80.33880679040755,-33.99943305252677,3.1))\"\n",
    "          \" AND gaia.source_id IN \"\n",
    "          \"(4655349652394811136,4655510043652327552,4655460771785226880,4661769941306044416,\"\n",
    "          \"4661720532007512320,4655136518933846784,4655158131209278464,4662293892954562048,\"\n",
    "          \"4654621500815442816,4655036841335115392,4661920986713556352,4661472145451256576,\"\n",
    "          \"4662061311885050624,4651629489160555392,4658269336800428672,4658204053297963392,\"\n",
    "          \"4658137739001073280,4660601607121368704,4660444926713007872,4658486455992620416,\"\n",
    "          \"4660175580731856128,4660124762671796096,4660246224352015232,4657280635327480832,\"\n",
    "          \"4657700408260606592,4657627943562907520,4657722879521554176,4659188769038018816,\"\n",
    "          \"4659091084305723392)\")\n",
    "\n",
    "gacs_query = select + tables + where\n",
    "resp = execute_query(gacs_query)\n",
    "\n",
    "# Load the information from the request results \n",
    "pm_ra,pm_dec,gmag, ra, dec = np.loadtxt(resp.text.split('\\n'),skiprows=1,delimiter=',',unpack=True)"
   ]
  },
  {
   "cell_type": "markdown",
   "metadata": {},
   "source": [
    "2. Plot the Proper Motion diagram"
   ]
  },
  {
   "cell_type": "code",
   "execution_count": 13,
   "metadata": {
    "collapsed": false
   },
   "outputs": [],
   "source": [
    "# GMAG ... \n",
    "area = np.linspace(np.min(gmag), np.max(gmag), 10)\n",
    "\n",
    "# Show the scatter plot\n",
    "plt.scatter(ra,dec, c=gmag,s=area**2, cmap=cm.YlOrRd, lw=0)\n",
    "plt.title('LMC with TGAS + Hipparcos')\n",
    "plt.xlabel('RA')\n",
    "plt.ylabel('DEC')\n",
    "pm_ra = pm_ra - np.mean(pm_ra)\n",
    "pm_dec = pm_dec - np.mean(pm_dec)\n",
    "# Plot the arrows ...\n",
    "plt.quiver(ra,dec,pm_ra,pm_dec,width=0.004,alpha=0.5,color='Black')\n",
    "\n",
    "plt.gca().invert_xaxis()\n",
    "plt.gca().set_xlim([60.0,100.0])\n",
    "plt.gca().set_ylim([-74,-64.5])\n",
    "plt.show()"
   ]
  },
  {
   "cell_type": "markdown",
   "metadata": {
    "nbpresent": {
     "id": "fa9d6f56-448d-4a55-a79f-a2357b2c800b"
    }
   },
   "source": [
    "### Create Proper Motion diagram (Pleiades)"
   ]
  },
  {
   "cell_type": "code",
   "execution_count": 14,
   "metadata": {
    "collapsed": false,
    "nbpresent": {
     "id": "70807a46-8c4b-4fa3-baf2-486659536f54"
    }
   },
   "outputs": [
    {
     "name": "stdout",
     "output_type": "stream",
     "text": [
      "Submitted job to GACS: Job URL=https://gea.esac.esa.int/tap-server/tap/async/1524670526480O\n",
      "Query time: 8.00365400314 seconds\n"
     ]
    }
   ],
   "source": [
    "pleiades_center_dec = 56.75\n",
    "pleiades_center_ra  = 24.12\n",
    "select = \"SELECT gaia.pmra,gaia.pmdec,gaia.phot_g_mean_mag,gaia.ra,gaia.dec\"\n",
    "tables = \" FROM gaiadr1.tgas_source as gaia\"\n",
    "where  = (\" WHERE 1=CONTAINS(POINT('ICRS',gaia.ra,gaia.dec), \"\n",
    "          \"CIRCLE('ICRS',\" + str(pleiades_center_ra) + \",\" + str(pleiades_center_dec) + \",5))\"\n",
    "          \" and sqrt(power(gaia.pmra-20.5,2)+power(gaia.pmdec+45.5,2)) < 20.0\")\n",
    "\n",
    "gacs_query = select + tables + where\n",
    "resp = execute_query(gacs_query)\n",
    "\n",
    "# Load the information from the request results \n",
    "pm_ra,pm_dec,gmag, ra, dec = np.loadtxt(resp.text.split('\\n'),skiprows=1,delimiter=',',unpack=True)\n",
    "\n",
    "area = np.linspace(np.min(gmag), np.max(gmag), 10)\n",
    "\n",
    "val = plt.scatter(ra,dec, c=gmag,s=area**2, cmap=cm.YlOrRd, lw=0)\n",
    "plt.title('Pleiades proper motion')\n",
    "plt.xlabel('RA')\n",
    "plt.ylabel('DEC')\n",
    "cbar = plt.colorbar(val)\n",
    "cbar.ax.set_ylabel('gmag')\n",
    "pm_ra = pm_ra - np.mean(pm_ra)\n",
    "pm_dec = pm_dec - np.mean(pm_dec)\n",
    "plt.quiver(ra,dec,pm_ra,pm_dec,width=0.004,alpha=0.5,color='Black')\n",
    "plt.gca().invert_xaxis()\n",
    "plt.gca().invert_yaxis()\n",
    "plt.show()"
   ]
  },
  {
   "cell_type": "markdown",
   "metadata": {
    "nbpresent": {
     "id": "3e410cf3-9c89-4143-ac95-e852b941b6c6"
    }
   },
   "source": [
    "### Create Proper Motion diagram (Bernard's Star)"
   ]
  },
  {
   "cell_type": "code",
   "execution_count": 15,
   "metadata": {
    "collapsed": false,
    "nbpresent": {
     "id": "deb240da-ebe1-4490-acf9-d79c9f8a1694"
    }
   },
   "outputs": [
    {
     "name": "stdout",
     "output_type": "stream",
     "text": [
      "Submitted job to GACS: Job URL=https://gea.esac.esa.int/tap-server/tap/async/1524670535500O\n",
      "Query time: 2.85263395309 seconds\n"
     ]
    }
   ],
   "source": [
    "barnard_center_dec = 4.66828815\n",
    "barnard_center_ra  = 269.45402305\n",
    "select = \"SELECT hip.pmra,hip.pmde,hip.hpmag,hip.ra,hip.de\"\n",
    "tables = \" FROM public.hipparcos as hip\"\n",
    "where  = (\" WHERE 1=CONTAINS(POINT('ICRS',hip.ra,hip.de), \"\n",
    "          \"CIRCLE('ICRS',\" + str(barnard_center_ra) + \",\" + str(barnard_center_dec) + \",0.466666))\")\n",
    "\n",
    "\n",
    "gacs_query = select + tables + where\n",
    "resp = execute_query(gacs_query)\n",
    "\n",
    "# Load the information from the request results \n",
    "pm_ra,pm_dec,gmag, ra, dec = np.loadtxt(resp.text.split('\\n'),skiprows=1,delimiter=',',unpack=True)\n",
    "\n",
    "area = np.linspace(np.min(gmag), np.max(gmag), 10)\n",
    "\n",
    "val = plt.scatter(ra,dec, c=gmag,s=area**3, cmap=cm.YlOrRd, lw=0)\n",
    "plt.title(\"Barnard's Star proper motion\")\n",
    "plt.xlabel('RA')\n",
    "plt.ylabel('DEC')\n",
    "cbar = plt.colorbar(val)\n",
    "cbar.ax.set_ylabel('gmag')\n",
    "pm_ra = pm_ra - np.mean(pm_ra)\n",
    "pm_dec = pm_dec - np.mean(pm_dec)\n",
    "plt.quiver(ra,dec,pm_ra,pm_dec,width=0.003,alpha=0.5,color='Green')\n",
    "plt.show()"
   ]
  },
  {
   "cell_type": "code",
   "execution_count": null,
   "metadata": {
    "collapsed": true
   },
   "outputs": [],
   "source": []
  },
  {
   "cell_type": "code",
   "execution_count": null,
   "metadata": {
    "collapsed": true
   },
   "outputs": [],
   "source": []
  }
 ],
 "metadata": {
  "anaconda-cloud": {},
  "kernelspec": {
   "display_name": "Python 2",
   "language": "python",
   "name": "python2"
  },
  "language_info": {
   "codemirror_mode": {
    "name": "ipython",
    "version": 2
   },
   "file_extension": ".py",
   "mimetype": "text/x-python",
   "name": "python",
   "nbconvert_exporter": "python",
   "pygments_lexer": "ipython2",
   "version": "2.7.13"
  },
  "nbpresent": {
   "slides": {
    "1dc3077a-892b-4c25-b3c0-afee79c21e14": {
     "id": "1dc3077a-892b-4c25-b3c0-afee79c21e14",
     "prev": "b18f3951-f406-43d1-8329-e012d808b5ff",
     "regions": {
      "4b891b09-54d8-4c41-92d2-50c3ca39ff42": {
       "attrs": {
        "height": 0.8,
        "width": 0.8,
        "x": 0.1,
        "y": 0.1
       },
       "content": {
        "cell": "577aaad1-4a9b-47f4-95de-39f73ae2448e",
        "part": "whole"
       },
       "id": "4b891b09-54d8-4c41-92d2-50c3ca39ff42"
      }
     }
    },
    "46559c4b-081e-4650-bc74-61a29e97015e": {
     "id": "46559c4b-081e-4650-bc74-61a29e97015e",
     "prev": "80b643d2-d836-49ad-bbd8-d9361c40cb67",
     "regions": {
      "313f041e-27f2-4e95-b83c-f39121d5e1f3": {
       "attrs": {
        "height": 0.8,
        "width": 0.8,
        "x": 0.1,
        "y": 0.1
       },
       "content": {
        "cell": "bb88a7c8-b0ad-4347-bd99-ee4ac1cd6381",
        "part": "whole"
       },
       "id": "313f041e-27f2-4e95-b83c-f39121d5e1f3"
      }
     }
    },
    "46c1bf01-0940-420c-b6b9-ae03c9271aaf": {
     "id": "46c1bf01-0940-420c-b6b9-ae03c9271aaf",
     "prev": null,
     "regions": {
      "2a41fa46-061a-4139-ab62-79af29212ed6": {
       "attrs": {
        "height": 0.8,
        "width": 0.8,
        "x": 0.1,
        "y": 0.1
       },
       "content": {
        "cell": "e63ced31-9d2d-4f7c-a625-2cfcab03f572",
        "part": "whole"
       },
       "id": "2a41fa46-061a-4139-ab62-79af29212ed6"
      }
     }
    },
    "4d31f9e0-f339-4f1c-9e82-7de97815e716": {
     "id": "4d31f9e0-f339-4f1c-9e82-7de97815e716",
     "prev": "bc228cb0-efbd-47e9-b693-301df9f2b672",
     "regions": {
      "00216c87-d46b-416f-a0c5-18b5ff7117ba": {
       "attrs": {
        "height": 0.8,
        "width": 0.8,
        "x": 0.1,
        "y": 0.1
       },
       "content": {
        "cell": "3e410cf3-9c89-4143-ac95-e852b941b6c6",
        "part": "whole"
       },
       "id": "00216c87-d46b-416f-a0c5-18b5ff7117ba"
      }
     }
    },
    "5e478743-96d9-4947-af04-6aec60a3cac9": {
     "id": "5e478743-96d9-4947-af04-6aec60a3cac9",
     "prev": "f549f559-d106-4d0b-bb20-0e0ab576d62d",
     "regions": {
      "091dcce6-4cff-4a23-aa62-5c054c317236": {
       "attrs": {
        "height": 0.8,
        "width": 0.8,
        "x": 0.1,
        "y": 0.1
       },
       "content": {
        "cell": "a494b7bc-d68e-410d-91e9-52199cab9e20",
        "part": "whole"
       },
       "id": "091dcce6-4cff-4a23-aa62-5c054c317236"
      }
     }
    },
    "6408c564-804f-49a7-b3b0-8ca24343609c": {
     "id": "6408c564-804f-49a7-b3b0-8ca24343609c",
     "prev": "46559c4b-081e-4650-bc74-61a29e97015e",
     "regions": {
      "3ab75c5a-abc1-4bf7-9d1a-97d185523837": {
       "attrs": {
        "height": 0.8,
        "width": 0.8,
        "x": 0.1,
        "y": 0.1
       },
       "content": {
        "cell": "f436b151-6acc-4e54-a71f-661ee8981847",
        "part": "whole"
       },
       "id": "3ab75c5a-abc1-4bf7-9d1a-97d185523837"
      }
     }
    },
    "645feeae-b330-497a-baab-4d4ce35ad2f6": {
     "id": "645feeae-b330-497a-baab-4d4ce35ad2f6",
     "prev": "a7aec888-9483-42a4-ac64-d47781a104a8",
     "regions": {
      "46526ebc-413e-408c-a92b-50c5abe26905": {
       "attrs": {
        "height": 0.8,
        "width": 0.8,
        "x": 0.1,
        "y": 0.1
       },
       "content": {
        "cell": "283346d8-5863-44f5-ac21-d287f1b8d312",
        "part": "whole"
       },
       "id": "46526ebc-413e-408c-a92b-50c5abe26905"
      }
     }
    },
    "6ca6c3e9-9b12-4e2e-9c06-c4a886e430b4": {
     "id": "6ca6c3e9-9b12-4e2e-9c06-c4a886e430b4",
     "prev": "7ea609ce-ffd5-4030-8591-cb9a0deee65a",
     "regions": {
      "9e026fbe-53cf-4da8-9aaf-4a1e56a62a6b": {
       "attrs": {
        "height": 0.8,
        "width": 0.8,
        "x": 0.1,
        "y": 0.1
       },
       "content": {
        "cell": "7c4c7c10-7fbf-4afe-81b1-f6b78ee74699",
        "part": "whole"
       },
       "id": "9e026fbe-53cf-4da8-9aaf-4a1e56a62a6b"
      }
     }
    },
    "73d5c425-f73c-4b99-bf8d-4ef6a6e1682b": {
     "id": "73d5c425-f73c-4b99-bf8d-4ef6a6e1682b",
     "prev": "d5a853e6-aed0-4a28-981e-1b013d3a286a",
     "regions": {
      "9118f502-4ddd-4a1d-9f8d-eb69c3cb720e": {
       "attrs": {
        "height": 0.8,
        "width": 0.8,
        "x": 0.1,
        "y": 0.1
       },
       "content": {
        "cell": "8ce4d072-9fed-4ebb-a877-ae93ad30e7c9",
        "part": "whole"
       },
       "id": "9118f502-4ddd-4a1d-9f8d-eb69c3cb720e"
      }
     }
    },
    "7ea609ce-ffd5-4030-8591-cb9a0deee65a": {
     "id": "7ea609ce-ffd5-4030-8591-cb9a0deee65a",
     "prev": "9e028dae-0a61-417b-852f-83029e095fef",
     "regions": {
      "bcc8e7d9-9c90-4716-896a-3fadb516069d": {
       "attrs": {
        "height": 0.8,
        "width": 0.8,
        "x": 0.1,
        "y": 0.1
       },
       "content": {
        "cell": "5741b64d-60f7-4f66-bf5f-5d166184d897",
        "part": "whole"
       },
       "id": "bcc8e7d9-9c90-4716-896a-3fadb516069d"
      }
     }
    },
    "80b643d2-d836-49ad-bbd8-d9361c40cb67": {
     "id": "80b643d2-d836-49ad-bbd8-d9361c40cb67",
     "prev": "5e478743-96d9-4947-af04-6aec60a3cac9",
     "regions": {
      "57c0ad26-52dd-4e8f-b355-5608a52d77d8": {
       "attrs": {
        "height": 0.8,
        "width": 0.8,
        "x": 0.1,
        "y": 0.1
       },
       "content": {
        "cell": "183c662f-a263-4088-8059-d5399c8dd935",
        "part": "whole"
       },
       "id": "57c0ad26-52dd-4e8f-b355-5608a52d77d8"
      }
     }
    },
    "9e028dae-0a61-417b-852f-83029e095fef": {
     "id": "9e028dae-0a61-417b-852f-83029e095fef",
     "prev": "6408c564-804f-49a7-b3b0-8ca24343609c",
     "regions": {
      "a5474243-0b9c-43e1-95c5-838eda0588a3": {
       "attrs": {
        "height": 0.8,
        "width": 0.8,
        "x": 0.1,
        "y": 0.1
       },
       "content": {
        "cell": "2ae3bfd3-f03c-4c22-aff9-e007ee9a54bc",
        "part": "whole"
       },
       "id": "a5474243-0b9c-43e1-95c5-838eda0588a3"
      }
     }
    },
    "a7aec888-9483-42a4-ac64-d47781a104a8": {
     "id": "a7aec888-9483-42a4-ac64-d47781a104a8",
     "prev": "cfc32630-6a6e-45d0-81e4-cc118eaec7b4",
     "regions": {
      "2b376749-1dae-4b10-8b1c-900052300210": {
       "attrs": {
        "height": 0.8,
        "width": 0.8,
        "x": 0.1,
        "y": 0.1
       },
       "content": {
        "cell": "4a0c76bf-1e9b-47b3-8e1b-18cc5499999a",
        "part": "whole"
       },
       "id": "2b376749-1dae-4b10-8b1c-900052300210"
      }
     }
    },
    "b18f3951-f406-43d1-8329-e012d808b5ff": {
     "id": "b18f3951-f406-43d1-8329-e012d808b5ff",
     "prev": "f84811f8-97cc-47e6-b3bd-b53d769ff6b6",
     "regions": {
      "d4d9017f-6f92-47e5-9b2f-2c13142a329b": {
       "attrs": {
        "height": 0.8,
        "width": 0.8,
        "x": 0.1,
        "y": 0.1
       },
       "content": {
        "cell": "1f25bc10-3fbb-41d2-a22e-3a2e27edac99",
        "part": "whole"
       },
       "id": "d4d9017f-6f92-47e5-9b2f-2c13142a329b"
      }
     }
    },
    "bc228cb0-efbd-47e9-b693-301df9f2b672": {
     "id": "bc228cb0-efbd-47e9-b693-301df9f2b672",
     "prev": "dc5282ed-f900-4cd9-a879-4b6ba09b4857",
     "regions": {
      "6330b606-5f41-4946-a502-0c55fb319fa9": {
       "attrs": {
        "height": 0.8,
        "width": 0.8,
        "x": 0.1,
        "y": 0.1
       },
       "content": {
        "cell": "70807a46-8c4b-4fa3-baf2-486659536f54",
        "part": "whole"
       },
       "id": "6330b606-5f41-4946-a502-0c55fb319fa9"
      }
     }
    },
    "be269f6f-192e-428c-8060-4ccb85296dfa": {
     "id": "be269f6f-192e-428c-8060-4ccb85296dfa",
     "prev": "4d31f9e0-f339-4f1c-9e82-7de97815e716",
     "regions": {
      "91171751-9197-4c13-ac40-29c1c12f0206": {
       "attrs": {
        "height": 0.8,
        "width": 0.8,
        "x": 0.1,
        "y": 0.1
       },
       "content": {
        "cell": "deb240da-ebe1-4490-acf9-d79c9f8a1694",
        "part": "whole"
       },
       "id": "91171751-9197-4c13-ac40-29c1c12f0206"
      }
     }
    },
    "cfc32630-6a6e-45d0-81e4-cc118eaec7b4": {
     "id": "cfc32630-6a6e-45d0-81e4-cc118eaec7b4",
     "prev": "46c1bf01-0940-420c-b6b9-ae03c9271aaf",
     "regions": {
      "4921e155-4c49-4838-80b5-885bd4486d3f": {
       "attrs": {
        "height": 0.8,
        "width": 0.8,
        "x": 0.1,
        "y": 0.1
       },
       "content": {
        "cell": "869626d3-f1c7-46fa-ab6b-02837a463713",
        "part": "whole"
       },
       "id": "4921e155-4c49-4838-80b5-885bd4486d3f"
      }
     }
    },
    "d5a853e6-aed0-4a28-981e-1b013d3a286a": {
     "id": "d5a853e6-aed0-4a28-981e-1b013d3a286a",
     "prev": "645feeae-b330-497a-baab-4d4ce35ad2f6",
     "regions": {
      "76360367-2c37-46a1-aade-10686526c5cf": {
       "attrs": {
        "height": 0.8,
        "width": 0.8,
        "x": 0.1,
        "y": 0.1
       },
       "content": {
        "cell": "20bc5b0f-879a-407b-8ce9-d5ceb9571015",
        "part": "whole"
       },
       "id": "76360367-2c37-46a1-aade-10686526c5cf"
      }
     }
    },
    "dc5282ed-f900-4cd9-a879-4b6ba09b4857": {
     "id": "dc5282ed-f900-4cd9-a879-4b6ba09b4857",
     "prev": "1dc3077a-892b-4c25-b3c0-afee79c21e14",
     "regions": {
      "678f95c9-7f8b-46aa-b330-5af862259a12": {
       "attrs": {
        "height": 0.8,
        "width": 0.8,
        "x": 0.1,
        "y": 0.1
       },
       "content": {
        "cell": "fa9d6f56-448d-4a55-a79f-a2357b2c800b",
        "part": "whole"
       },
       "id": "678f95c9-7f8b-46aa-b330-5af862259a12"
      }
     }
    },
    "f48e3e30-e420-4b2c-af9c-eec071f0fb43": {
     "id": "f48e3e30-e420-4b2c-af9c-eec071f0fb43",
     "prev": "73d5c425-f73c-4b99-bf8d-4ef6a6e1682b",
     "regions": {
      "e8283f18-129f-47b5-ac7e-95c77b7c40a9": {
       "attrs": {
        "height": 0.8,
        "width": 0.8,
        "x": 0.1,
        "y": 0.1
       },
       "content": {
        "cell": "6376122b-df3d-4898-a5d9-8a8417ad809d",
        "part": "whole"
       },
       "id": "e8283f18-129f-47b5-ac7e-95c77b7c40a9"
      }
     }
    },
    "f549f559-d106-4d0b-bb20-0e0ab576d62d": {
     "id": "f549f559-d106-4d0b-bb20-0e0ab576d62d",
     "prev": "f48e3e30-e420-4b2c-af9c-eec071f0fb43",
     "regions": {
      "aa8ad903-4711-4689-90f8-89e42e6cdcbc": {
       "attrs": {
        "height": 0.8,
        "width": 0.8,
        "x": 0.1,
        "y": 0.1
       },
       "content": {
        "cell": "a3be766f-1132-4244-89d3-2cdadc0d3c98",
        "part": "whole"
       },
       "id": "aa8ad903-4711-4689-90f8-89e42e6cdcbc"
      }
     }
    },
    "f84811f8-97cc-47e6-b3bd-b53d769ff6b6": {
     "id": "f84811f8-97cc-47e6-b3bd-b53d769ff6b6",
     "prev": "6ca6c3e9-9b12-4e2e-9c06-c4a886e430b4",
     "regions": {
      "0c3faa10-2000-4424-847b-de5ad2a8f853": {
       "attrs": {
        "height": 0.8,
        "width": 0.8,
        "x": 0.1,
        "y": 0.1
       },
       "content": {
        "cell": "7243a8d7-5cf3-441e-82f4-6c1bd22017ef",
        "part": "whole"
       },
       "id": "0c3faa10-2000-4424-847b-de5ad2a8f853"
      }
     }
    }
   },
   "themes": {}
  }
 },
 "nbformat": 4,
 "nbformat_minor": 1
}
